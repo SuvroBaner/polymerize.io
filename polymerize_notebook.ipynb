{
 "cells": [
  {
   "cell_type": "markdown",
   "id": "3867b847-d015-44b6-a552-36dac1464c69",
   "metadata": {},
   "source": [
    "#### Importing Modules"
   ]
  },
  {
   "cell_type": "code",
   "execution_count": 44,
   "id": "f433ccbb-2a34-4225-b8dc-069d62d581d4",
   "metadata": {},
   "outputs": [],
   "source": [
    "from dataclasses import dataclass\n",
    "from typing import Optional\n",
    "from enum import Enum\n",
    "import pandas as pd"
   ]
  },
  {
   "cell_type": "markdown",
   "id": "dbe9ec7e-c4c3-49e7-ac60-a7e4fa71a337",
   "metadata": {},
   "source": [
    "#### Reading the Data"
   ]
  },
  {
   "cell_type": "code",
   "execution_count": 45,
   "id": "6ff15f17-0187-4c79-928e-d7f9221fc567",
   "metadata": {},
   "outputs": [],
   "source": [
    "class InfillPattern(Enum):\n",
    "    GRID = \"grid\"\n",
    "    HONEYCOMB = \"honeycomb\""
   ]
  },
  {
   "cell_type": "code",
   "execution_count": 46,
   "id": "ebc6079c-b336-451b-95f7-579b8d18c99f",
   "metadata": {},
   "outputs": [],
   "source": [
    "class Material(Enum):\n",
    "    ABS = \"abs\"\n",
    "    PLA = \"pla\""
   ]
  },
  {
   "cell_type": "code",
   "execution_count": 80,
   "id": "2babe847-557e-48e7-9d83-9f4f6047d168",
   "metadata": {},
   "outputs": [],
   "source": [
    "@dataclass\n",
    "class ThreeDPrinterData:\n",
    "    layer_height: float\n",
    "    wall_thickness: int\n",
    "    infill_density: int\n",
    "    infill_pattern: InfillPattern\n",
    "    nozzle_temperature: int\n",
    "    bed_temperature: int\n",
    "    print_speed: int\n",
    "    material: Material\n",
    "    fan_speed: int\n",
    "    roughness: int\n",
    "    tensile_strength: int\n",
    "    elongation: float\n",
    "    \n",
    "    def __post_init__(self):\n",
    "        # perform any validations on the input data\n",
    "        pass\n",
    "            \n",
    "    \n",
    "    def as_dict(self):\n",
    "        return {\n",
    "            'layer_height': self.layer_height,\n",
    "            'wall_thickness': self.wall_thickness,\n",
    "            'infill_density': self.infill_density,\n",
    "            'infill_pattern': self.infill_pattern.value,\n",
    "            'nozzle_temperature': self.nozzle_temperature,\n",
    "            'bed_temperature': self.bed_temperature,\n",
    "            'print_speed': self.print_speed,\n",
    "            'material': self.material.value,\n",
    "            'fan_speed': self.fan_speed,\n",
    "            'roughness': self.roughness,\n",
    "            'tensile_strength': self.tensile_strength,\n",
    "            'elongation': self.elongation,\n",
    "        }"
   ]
  },
  {
   "cell_type": "code",
   "execution_count": 81,
   "id": "572f64bd-0a68-496f-bccd-2c4068346e69",
   "metadata": {},
   "outputs": [],
   "source": [
    "df1 = ThreeDPrinterData(0.02, 8, 90, InfillPattern.GRID, 220, 60, 40, Material.ABS, 0, 25, 18, 1.2)"
   ]
  },
  {
   "cell_type": "code",
   "execution_count": 79,
   "id": "7dc027bb-f0d3-4bb1-a1b3-af60ea9566af",
   "metadata": {},
   "outputs": [
    {
     "name": "stdout",
     "output_type": "stream",
     "text": [
      "{'layer_height': 0.02, 'wall_thickness': 8, 'infill_density': 90, 'infill_pattern': 'grid', 'nozzle_temperature': 220, 'bed_temperature': 60, 'print_speed': 40, 'material': 'abs', 'fan_speed': 0, 'roughness': 25, 'tensile_strength': 18, 'elongation': 1.2}\n"
     ]
    }
   ],
   "source": [
    "print(df1.as_dict())"
   ]
  },
  {
   "cell_type": "code",
   "execution_count": null,
   "id": "7eb94d1b-f8cd-4b77-8863-54078988bc15",
   "metadata": {},
   "outputs": [],
   "source": []
  }
 ],
 "metadata": {
  "kernelspec": {
   "display_name": "polymerize_env",
   "language": "python",
   "name": "polymerize_env"
  },
  "language_info": {
   "codemirror_mode": {
    "name": "ipython",
    "version": 3
   },
   "file_extension": ".py",
   "mimetype": "text/x-python",
   "name": "python",
   "nbconvert_exporter": "python",
   "pygments_lexer": "ipython3",
   "version": "3.7.9"
  }
 },
 "nbformat": 4,
 "nbformat_minor": 5
}
