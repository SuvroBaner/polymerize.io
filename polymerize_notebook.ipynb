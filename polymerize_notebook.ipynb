{
 "cells": [
  {
   "cell_type": "markdown",
   "id": "3867b847-d015-44b6-a552-36dac1464c69",
   "metadata": {},
   "source": [
    "#### Importing Modules"
   ]
  },
  {
   "cell_type": "code",
   "execution_count": 148,
   "id": "f433ccbb-2a34-4225-b8dc-069d62d581d4",
   "metadata": {},
   "outputs": [],
   "source": [
    "from dataclasses import dataclass, asdict\n",
    "from dataclass_csv import DataclassReader\n",
    "from typing import Optional\n",
    "from enum import Enum\n",
    "import pandas as pd"
   ]
  },
  {
   "cell_type": "markdown",
   "id": "dbe9ec7e-c4c3-49e7-ac60-a7e4fa71a337",
   "metadata": {},
   "source": [
    "#### Reading the Data"
   ]
  },
  {
   "cell_type": "code",
   "execution_count": 149,
   "id": "6ff15f17-0187-4c79-928e-d7f9221fc567",
   "metadata": {},
   "outputs": [],
   "source": [
    "class InfillPattern(Enum):\n",
    "    GRID = \"grid\"\n",
    "    HONEYCOMB = \"honeycomb\""
   ]
  },
  {
   "cell_type": "code",
   "execution_count": 150,
   "id": "ebc6079c-b336-451b-95f7-579b8d18c99f",
   "metadata": {},
   "outputs": [],
   "source": [
    "class Material(Enum):\n",
    "    ABS = \"abs\"\n",
    "    PLA = \"pla\""
   ]
  },
  {
   "cell_type": "code",
   "execution_count": 151,
   "id": "2babe847-557e-48e7-9d83-9f4f6047d168",
   "metadata": {},
   "outputs": [],
   "source": [
    "@dataclass\n",
    "class ThreeDPrinterData:\n",
    "    layer_height: float\n",
    "    wall_thickness: int\n",
    "    infill_density: int\n",
    "    infill_pattern: InfillPattern\n",
    "    nozzle_temperature: int\n",
    "    bed_temperature: int\n",
    "    print_speed: int\n",
    "    material: Material\n",
    "    fan_speed: int\n",
    "    roughness: int\n",
    "    tensile_strength: int\n",
    "    elongation: float"
   ]
  },
  {
   "cell_type": "code",
   "execution_count": 152,
   "id": "a8946a22-a491-4340-97b2-386847d46879",
   "metadata": {},
   "outputs": [],
   "source": [
    "FILENAME = './3dprinterdata_edited.csv'"
   ]
  },
  {
   "cell_type": "code",
   "execution_count": 160,
   "id": "cdd6588d-46fb-477e-b437-17126a3f1eb7",
   "metadata": {},
   "outputs": [],
   "source": [
    "def readCSVData(flname):\n",
    "    with open(flname) as data_csv:\n",
    "        reader = DataclassReader(data_csv, ThreeDPrinterData)\n",
    "        reader.map('Tensile Strength').to('tensile_strength')\n",
    "        reader.map('Elongation').to('elongation')\n",
    "        data_objects = []\n",
    "        for row in reader:\n",
    "            data_objects.append(row)\n",
    "    \n",
    "    df = pd.DataFrame(data_objects)\n",
    "    df['infill_pattern'] = df['infill_pattern'].map(lambda obj: obj.value)\n",
    "    df['material'] = df['material'].map(lambda obj: obj.value)\n",
    "    \n",
    "    return df"
   ]
  },
  {
   "cell_type": "code",
   "execution_count": 161,
   "id": "615f34b8-d7bd-4177-bc86-6a0e4ba10e48",
   "metadata": {},
   "outputs": [],
   "source": [
    "df = readCSVData(FILENAME)"
   ]
  },
  {
   "cell_type": "code",
   "execution_count": 163,
   "id": "87548705-868c-42e8-ac37-be4abd124bc2",
   "metadata": {},
   "outputs": [
    {
     "data": {
      "text/html": [
       "<div>\n",
       "<style scoped>\n",
       "    .dataframe tbody tr th:only-of-type {\n",
       "        vertical-align: middle;\n",
       "    }\n",
       "\n",
       "    .dataframe tbody tr th {\n",
       "        vertical-align: top;\n",
       "    }\n",
       "\n",
       "    .dataframe thead th {\n",
       "        text-align: right;\n",
       "    }\n",
       "</style>\n",
       "<table border=\"1\" class=\"dataframe\">\n",
       "  <thead>\n",
       "    <tr style=\"text-align: right;\">\n",
       "      <th></th>\n",
       "      <th>layer_height</th>\n",
       "      <th>wall_thickness</th>\n",
       "      <th>infill_density</th>\n",
       "      <th>infill_pattern</th>\n",
       "      <th>nozzle_temperature</th>\n",
       "      <th>bed_temperature</th>\n",
       "      <th>print_speed</th>\n",
       "      <th>material</th>\n",
       "      <th>fan_speed</th>\n",
       "      <th>roughness</th>\n",
       "      <th>tensile_strength</th>\n",
       "      <th>elongation</th>\n",
       "    </tr>\n",
       "  </thead>\n",
       "  <tbody>\n",
       "    <tr>\n",
       "      <th>0</th>\n",
       "      <td>0.02</td>\n",
       "      <td>8</td>\n",
       "      <td>90</td>\n",
       "      <td>grid</td>\n",
       "      <td>220</td>\n",
       "      <td>60</td>\n",
       "      <td>40</td>\n",
       "      <td>abs</td>\n",
       "      <td>0</td>\n",
       "      <td>25</td>\n",
       "      <td>18</td>\n",
       "      <td>1.2</td>\n",
       "    </tr>\n",
       "    <tr>\n",
       "      <th>1</th>\n",
       "      <td>0.02</td>\n",
       "      <td>7</td>\n",
       "      <td>90</td>\n",
       "      <td>honeycomb</td>\n",
       "      <td>225</td>\n",
       "      <td>65</td>\n",
       "      <td>40</td>\n",
       "      <td>abs</td>\n",
       "      <td>25</td>\n",
       "      <td>32</td>\n",
       "      <td>16</td>\n",
       "      <td>1.4</td>\n",
       "    </tr>\n",
       "    <tr>\n",
       "      <th>2</th>\n",
       "      <td>0.02</td>\n",
       "      <td>1</td>\n",
       "      <td>80</td>\n",
       "      <td>grid</td>\n",
       "      <td>230</td>\n",
       "      <td>70</td>\n",
       "      <td>40</td>\n",
       "      <td>abs</td>\n",
       "      <td>50</td>\n",
       "      <td>40</td>\n",
       "      <td>8</td>\n",
       "      <td>0.8</td>\n",
       "    </tr>\n",
       "    <tr>\n",
       "      <th>3</th>\n",
       "      <td>0.02</td>\n",
       "      <td>4</td>\n",
       "      <td>70</td>\n",
       "      <td>honeycomb</td>\n",
       "      <td>240</td>\n",
       "      <td>75</td>\n",
       "      <td>40</td>\n",
       "      <td>abs</td>\n",
       "      <td>75</td>\n",
       "      <td>68</td>\n",
       "      <td>10</td>\n",
       "      <td>0.5</td>\n",
       "    </tr>\n",
       "    <tr>\n",
       "      <th>4</th>\n",
       "      <td>0.02</td>\n",
       "      <td>6</td>\n",
       "      <td>90</td>\n",
       "      <td>grid</td>\n",
       "      <td>250</td>\n",
       "      <td>80</td>\n",
       "      <td>40</td>\n",
       "      <td>abs</td>\n",
       "      <td>100</td>\n",
       "      <td>92</td>\n",
       "      <td>5</td>\n",
       "      <td>0.7</td>\n",
       "    </tr>\n",
       "  </tbody>\n",
       "</table>\n",
       "</div>"
      ],
      "text/plain": [
       "   layer_height  wall_thickness  infill_density infill_pattern  \\\n",
       "0          0.02               8              90           grid   \n",
       "1          0.02               7              90      honeycomb   \n",
       "2          0.02               1              80           grid   \n",
       "3          0.02               4              70      honeycomb   \n",
       "4          0.02               6              90           grid   \n",
       "\n",
       "   nozzle_temperature  bed_temperature  print_speed material  fan_speed  \\\n",
       "0                 220               60           40      abs          0   \n",
       "1                 225               65           40      abs         25   \n",
       "2                 230               70           40      abs         50   \n",
       "3                 240               75           40      abs         75   \n",
       "4                 250               80           40      abs        100   \n",
       "\n",
       "   roughness  tensile_strength  elongation  \n",
       "0         25                18         1.2  \n",
       "1         32                16         1.4  \n",
       "2         40                 8         0.8  \n",
       "3         68                10         0.5  \n",
       "4         92                 5         0.7  "
      ]
     },
     "execution_count": 163,
     "metadata": {},
     "output_type": "execute_result"
    }
   ],
   "source": [
    "df.head()"
   ]
  },
  {
   "cell_type": "code",
   "execution_count": null,
   "id": "9ba16e66-cc47-44ce-9f0f-05a4873d996a",
   "metadata": {},
   "outputs": [],
   "source": []
  }
 ],
 "metadata": {
  "kernelspec": {
   "display_name": "polymerize_env",
   "language": "python",
   "name": "polymerize_env"
  },
  "language_info": {
   "codemirror_mode": {
    "name": "ipython",
    "version": 3
   },
   "file_extension": ".py",
   "mimetype": "text/x-python",
   "name": "python",
   "nbconvert_exporter": "python",
   "pygments_lexer": "ipython3",
   "version": "3.7.9"
  }
 },
 "nbformat": 4,
 "nbformat_minor": 5
}
