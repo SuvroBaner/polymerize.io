{
 "cells": [
  {
   "cell_type": "markdown",
   "id": "3867b847-d015-44b6-a552-36dac1464c69",
   "metadata": {},
   "source": [
    "#### Importing Modules"
   ]
  },
  {
   "cell_type": "code",
   "execution_count": 5,
   "id": "f433ccbb-2a34-4225-b8dc-069d62d581d4",
   "metadata": {},
   "outputs": [],
   "source": [
    "from dataclasses import dataclass\n",
    "from typing import Optional\n",
    "import enum"
   ]
  },
  {
   "cell_type": "markdown",
   "id": "dbe9ec7e-c4c3-49e7-ac60-a7e4fa71a337",
   "metadata": {},
   "source": [
    "#### Reading the Data"
   ]
  },
  {
   "cell_type": "code",
   "execution_count": 8,
   "id": "6ff15f17-0187-4c79-928e-d7f9221fc567",
   "metadata": {},
   "outputs": [],
   "source": [
    "class InfillPattern(enum.Enum):\n",
    "    GRID = \"grid\"\n",
    "    HONEYCOMB = \"honeycomb\""
   ]
  },
  {
   "cell_type": "code",
   "execution_count": 10,
   "id": "ebc6079c-b336-451b-95f7-579b8d18c99f",
   "metadata": {},
   "outputs": [],
   "source": [
    "class Material(enum.Enum):\n",
    "    ABS = \"abs\"\n",
    "    PLA = \"pla\""
   ]
  },
  {
   "cell_type": "code",
   "execution_count": null,
   "id": "3c8cbed3-1ca0-4991-ab80-127a5fc4de5c",
   "metadata": {},
   "outputs": [],
   "source": []
  },
  {
   "cell_type": "code",
   "execution_count": 9,
   "id": "2babe847-557e-48e7-9d83-9f4f6047d168",
   "metadata": {},
   "outputs": [],
   "source": [
    "@dataclass\n",
    "class ThreeDPrinterData:\n",
    "    layer_height: float\n",
    "    wall_thickness: int\n",
    "    infill_density: int\n",
    "    infill_pattern: InfillPattern\n",
    "    nozzle_temperature: int\n",
    "    bed_temperature: int\n",
    "    print_speed: int\n",
    "    material: Material\n",
    "    fan_speed: int\n",
    "    roughness: int\n",
    "    tensile_strength: int\n",
    "    elongation: float\n",
    "    \n",
    "    def __post_init__(self):\n",
    "        # TODO: perform any validations on the input data\n",
    "        pass\n",
    "    \n",
    "    "
   ]
  },
  {
   "cell_type": "code",
   "execution_count": null,
   "id": "572f64bd-0a68-496f-bccd-2c4068346e69",
   "metadata": {},
   "outputs": [],
   "source": []
  }
 ],
 "metadata": {
  "kernelspec": {
   "display_name": "polymerize_env",
   "language": "python",
   "name": "polymerize_env"
  },
  "language_info": {
   "codemirror_mode": {
    "name": "ipython",
    "version": 3
   },
   "file_extension": ".py",
   "mimetype": "text/x-python",
   "name": "python",
   "nbconvert_exporter": "python",
   "pygments_lexer": "ipython3",
   "version": "3.7.9"
  }
 },
 "nbformat": 4,
 "nbformat_minor": 5
}
