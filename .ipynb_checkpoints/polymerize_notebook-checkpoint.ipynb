{
 "cells": [
  {
   "cell_type": "markdown",
   "id": "3867b847-d015-44b6-a552-36dac1464c69",
   "metadata": {},
   "source": [
    "#### Importing Modules"
   ]
  },
  {
   "cell_type": "code",
   "execution_count": 91,
   "id": "f433ccbb-2a34-4225-b8dc-069d62d581d4",
   "metadata": {},
   "outputs": [],
   "source": [
    "from dataclasses import dataclass\n",
    "from dataclass_csv import DataclassReader\n",
    "from typing import Optional\n",
    "from enum import Enum\n",
    "import pandas as pd"
   ]
  },
  {
   "cell_type": "markdown",
   "id": "dbe9ec7e-c4c3-49e7-ac60-a7e4fa71a337",
   "metadata": {},
   "source": [
    "#### Reading the Data"
   ]
  },
  {
   "cell_type": "code",
   "execution_count": 103,
   "id": "6ff15f17-0187-4c79-928e-d7f9221fc567",
   "metadata": {},
   "outputs": [],
   "source": [
    "class InfillPattern(Enum):\n",
    "    GRID = \"grid\"\n",
    "    HONEYCOMB = \"honeycomb\""
   ]
  },
  {
   "cell_type": "code",
   "execution_count": 104,
   "id": "ebc6079c-b336-451b-95f7-579b8d18c99f",
   "metadata": {},
   "outputs": [],
   "source": [
    "class Material(Enum):\n",
    "    ABS = \"abs\"\n",
    "    PLA = \"pla\""
   ]
  },
  {
   "cell_type": "code",
   "execution_count": 105,
   "id": "2babe847-557e-48e7-9d83-9f4f6047d168",
   "metadata": {},
   "outputs": [],
   "source": [
    "@dataclass\n",
    "class ThreeDPrinterData:\n",
    "    layer_height: str\n",
    "    wall_thickness: int\n",
    "    infill_density: int\n",
    "    infill_pattern: InfillPattern\n",
    "    nozzle_temperature: int\n",
    "    bed_temperature: int\n",
    "    print_speed: int\n",
    "    material: Material\n",
    "    fan_speed: int\n",
    "    roughness: int\n",
    "    tensile_strength: int\n",
    "    elongation: float\n",
    "    \n",
    "    def __post_init__(self):\n",
    "        # perform any validations on the input data\n",
    "        pass\n",
    "            \n",
    "    \n",
    "    def as_dict(self):\n",
    "        return {\n",
    "            'layer_height': self.layer_height,\n",
    "            'wall_thickness': self.wall_thickness,\n",
    "            'infill_density': self.infill_density,\n",
    "            'infill_pattern': self.infill_pattern.value,\n",
    "            'nozzle_temperature': self.nozzle_temperature,\n",
    "            'bed_temperature': self.bed_temperature,\n",
    "            'print_speed': self.print_speed,\n",
    "            'material': self.material.value,\n",
    "            'fan_speed': self.fan_speed,\n",
    "            'roughness': self.roughness,\n",
    "            'tensile_strength': self.tensile_strength,\n",
    "            'elongation': self.elongation,\n",
    "        }"
   ]
  },
  {
   "cell_type": "code",
   "execution_count": 106,
   "id": "572f64bd-0a68-496f-bccd-2c4068346e69",
   "metadata": {},
   "outputs": [],
   "source": [
    "#df1 = ThreeDPrinterData(0.02, 8, 90, InfillPattern.GRID, 220, 60, 40, Material.ABS, 0, 25, 18, 1.2)"
   ]
  },
  {
   "cell_type": "code",
   "execution_count": 107,
   "id": "7dc027bb-f0d3-4bb1-a1b3-af60ea9566af",
   "metadata": {},
   "outputs": [],
   "source": [
    "#print(df1.as_dict())"
   ]
  },
  {
   "cell_type": "code",
   "execution_count": 108,
   "id": "7eb94d1b-f8cd-4b77-8863-54078988bc15",
   "metadata": {},
   "outputs": [
    {
     "name": "stdout",
     "output_type": "stream",
     "text": [
      "ThreeDPrinterData(layer_height=0.02, wall_thickness=8, infill_density=90, infill_pattern=<InfillPattern.GRID: 'grid'>, nozzle_temperature=220, bed_temperature=60, print_speed=40, material=<Material.ABS: 'abs'>, fan_speed=0, roughness=25, tensile_strength=18, elongation=1.2)\n",
      "ThreeDPrinterData(layer_height=0.02, wall_thickness=7, infill_density=90, infill_pattern=<InfillPattern.HONEYCOMB: 'honeycomb'>, nozzle_temperature=225, bed_temperature=65, print_speed=40, material=<Material.ABS: 'abs'>, fan_speed=25, roughness=32, tensile_strength=16, elongation=1.4)\n",
      "ThreeDPrinterData(layer_height=0.02, wall_thickness=1, infill_density=80, infill_pattern=<InfillPattern.GRID: 'grid'>, nozzle_temperature=230, bed_temperature=70, print_speed=40, material=<Material.ABS: 'abs'>, fan_speed=50, roughness=40, tensile_strength=8, elongation=0.8)\n",
      "ThreeDPrinterData(layer_height=0.02, wall_thickness=4, infill_density=70, infill_pattern=<InfillPattern.HONEYCOMB: 'honeycomb'>, nozzle_temperature=240, bed_temperature=75, print_speed=40, material=<Material.ABS: 'abs'>, fan_speed=75, roughness=68, tensile_strength=10, elongation=0.5)\n",
      "ThreeDPrinterData(layer_height=0.02, wall_thickness=6, infill_density=90, infill_pattern=<InfillPattern.GRID: 'grid'>, nozzle_temperature=250, bed_temperature=80, print_speed=40, material=<Material.ABS: 'abs'>, fan_speed=100, roughness=92, tensile_strength=5, elongation=0.7)\n",
      "ThreeDPrinterData(layer_height=0.02, wall_thickness=10, infill_density=40, infill_pattern=<InfillPattern.HONEYCOMB: 'honeycomb'>, nozzle_temperature=200, bed_temperature=60, print_speed=40, material=<Material.PLA: 'pla'>, fan_speed=0, roughness=60, tensile_strength=24, elongation=1.1)\n",
      "ThreeDPrinterData(layer_height=0.02, wall_thickness=10, infill_density=10, infill_pattern=<InfillPattern.HONEYCOMB: 'honeycomb'>, nozzle_temperature=210, bed_temperature=70, print_speed=40, material=<Material.PLA: 'pla'>, fan_speed=50, roughness=21, tensile_strength=14, elongation=1.5)\n",
      "ThreeDPrinterData(layer_height=0.02, wall_thickness=9, infill_density=70, infill_pattern=<InfillPattern.GRID: 'grid'>, nozzle_temperature=215, bed_temperature=75, print_speed=40, material=<Material.PLA: 'pla'>, fan_speed=75, roughness=24, tensile_strength=27, elongation=1.4)\n",
      "ThreeDPrinterData(layer_height=0.06, wall_thickness=6, infill_density=80, infill_pattern=<InfillPattern.GRID: 'grid'>, nozzle_temperature=220, bed_temperature=60, print_speed=60, material=<Material.ABS: 'abs'>, fan_speed=0, roughness=75, tensile_strength=37, elongation=2.4)\n",
      "ThreeDPrinterData(layer_height=0.06, wall_thickness=2, infill_density=20, infill_pattern=<InfillPattern.HONEYCOMB: 'honeycomb'>, nozzle_temperature=225, bed_temperature=65, print_speed=60, material=<Material.ABS: 'abs'>, fan_speed=25, roughness=92, tensile_strength=12, elongation=1.4)\n",
      "ThreeDPrinterData(layer_height=0.06, wall_thickness=6, infill_density=10, infill_pattern=<InfillPattern.HONEYCOMB: 'honeycomb'>, nozzle_temperature=240, bed_temperature=75, print_speed=60, material=<Material.ABS: 'abs'>, fan_speed=75, roughness=200, tensile_strength=9, elongation=0.8)\n",
      "ThreeDPrinterData(layer_height=0.06, wall_thickness=3, infill_density=50, infill_pattern=<InfillPattern.GRID: 'grid'>, nozzle_temperature=250, bed_temperature=80, print_speed=60, material=<Material.ABS: 'abs'>, fan_speed=100, roughness=220, tensile_strength=10, elongation=1.0)\n",
      "ThreeDPrinterData(layer_height=0.06, wall_thickness=10, infill_density=90, infill_pattern=<InfillPattern.HONEYCOMB: 'honeycomb'>, nozzle_temperature=200, bed_temperature=60, print_speed=60, material=<Material.PLA: 'pla'>, fan_speed=0, roughness=126, tensile_strength=27, elongation=2.2)\n",
      "ThreeDPrinterData(layer_height=0.06, wall_thickness=3, infill_density=40, infill_pattern=<InfillPattern.GRID: 'grid'>, nozzle_temperature=205, bed_temperature=65, print_speed=60, material=<Material.PLA: 'pla'>, fan_speed=25, roughness=145, tensile_strength=23, elongation=1.9)\n",
      "ThreeDPrinterData(layer_height=0.06, wall_thickness=8, infill_density=30, infill_pattern=<InfillPattern.HONEYCOMB: 'honeycomb'>, nozzle_temperature=210, bed_temperature=70, print_speed=60, material=<Material.PLA: 'pla'>, fan_speed=50, roughness=88, tensile_strength=26, elongation=1.6)\n",
      "ThreeDPrinterData(layer_height=0.06, wall_thickness=5, infill_density=80, infill_pattern=<InfillPattern.GRID: 'grid'>, nozzle_temperature=215, bed_temperature=75, print_speed=60, material=<Material.PLA: 'pla'>, fan_speed=75, roughness=92, tensile_strength=33, elongation=2.1)\n",
      "ThreeDPrinterData(layer_height=0.06, wall_thickness=10, infill_density=50, infill_pattern=<InfillPattern.HONEYCOMB: 'honeycomb'>, nozzle_temperature=220, bed_temperature=80, print_speed=60, material=<Material.PLA: 'pla'>, fan_speed=100, roughness=74, tensile_strength=29, elongation=2.0)\n",
      "ThreeDPrinterData(layer_height=0.1, wall_thickness=1, infill_density=40, infill_pattern=<InfillPattern.GRID: 'grid'>, nozzle_temperature=220, bed_temperature=60, print_speed=120, material=<Material.ABS: 'abs'>, fan_speed=0, roughness=120, tensile_strength=16, elongation=1.2)\n",
      "ThreeDPrinterData(layer_height=0.1, wall_thickness=2, infill_density=30, infill_pattern=<InfillPattern.HONEYCOMB: 'honeycomb'>, nozzle_temperature=225, bed_temperature=65, print_speed=120, material=<Material.ABS: 'abs'>, fan_speed=25, roughness=144, tensile_strength=12, elongation=1.1)\n",
      "ThreeDPrinterData(layer_height=0.1, wall_thickness=1, infill_density=50, infill_pattern=<InfillPattern.GRID: 'grid'>, nozzle_temperature=230, bed_temperature=70, print_speed=120, material=<Material.ABS: 'abs'>, fan_speed=50, roughness=265, tensile_strength=10, elongation=0.9)\n",
      "ThreeDPrinterData(layer_height=0.1, wall_thickness=9, infill_density=80, infill_pattern=<InfillPattern.HONEYCOMB: 'honeycomb'>, nozzle_temperature=240, bed_temperature=75, print_speed=120, material=<Material.ABS: 'abs'>, fan_speed=75, roughness=312, tensile_strength=19, elongation=0.8)\n",
      "ThreeDPrinterData(layer_height=0.1, wall_thickness=2, infill_density=60, infill_pattern=<InfillPattern.GRID: 'grid'>, nozzle_temperature=250, bed_temperature=80, print_speed=120, material=<Material.ABS: 'abs'>, fan_speed=100, roughness=368, tensile_strength=8, elongation=0.4)\n",
      "ThreeDPrinterData(layer_height=0.1, wall_thickness=1, infill_density=50, infill_pattern=<InfillPattern.HONEYCOMB: 'honeycomb'>, nozzle_temperature=200, bed_temperature=60, print_speed=120, material=<Material.PLA: 'pla'>, fan_speed=0, roughness=180, tensile_strength=11, elongation=1.6)\n",
      "ThreeDPrinterData(layer_height=0.1, wall_thickness=4, infill_density=40, infill_pattern=<InfillPattern.GRID: 'grid'>, nozzle_temperature=205, bed_temperature=65, print_speed=120, material=<Material.PLA: 'pla'>, fan_speed=25, roughness=176, tensile_strength=12, elongation=1.2)\n",
      "ThreeDPrinterData(layer_height=0.1, wall_thickness=3, infill_density=50, infill_pattern=<InfillPattern.HONEYCOMB: 'honeycomb'>, nozzle_temperature=210, bed_temperature=70, print_speed=120, material=<Material.PLA: 'pla'>, fan_speed=50, roughness=128, tensile_strength=18, elongation=1.8)\n",
      "ThreeDPrinterData(layer_height=0.1, wall_thickness=4, infill_density=90, infill_pattern=<InfillPattern.GRID: 'grid'>, nozzle_temperature=215, bed_temperature=75, print_speed=120, material=<Material.PLA: 'pla'>, fan_speed=75, roughness=138, tensile_strength=34, elongation=2.9)\n",
      "ThreeDPrinterData(layer_height=0.1, wall_thickness=1, infill_density=30, infill_pattern=<InfillPattern.HONEYCOMB: 'honeycomb'>, nozzle_temperature=220, bed_temperature=80, print_speed=120, material=<Material.PLA: 'pla'>, fan_speed=100, roughness=121, tensile_strength=14, elongation=1.5)\n",
      "ThreeDPrinterData(layer_height=0.15, wall_thickness=4, infill_density=50, infill_pattern=<InfillPattern.GRID: 'grid'>, nozzle_temperature=220, bed_temperature=60, print_speed=60, material=<Material.ABS: 'abs'>, fan_speed=0, roughness=168, tensile_strength=27, elongation=2.4)\n",
      "ThreeDPrinterData(layer_height=0.15, wall_thickness=7, infill_density=10, infill_pattern=<InfillPattern.HONEYCOMB: 'honeycomb'>, nozzle_temperature=225, bed_temperature=65, print_speed=60, material=<Material.ABS: 'abs'>, fan_speed=25, roughness=154, tensile_strength=19, elongation=1.8)\n",
      "ThreeDPrinterData(layer_height=0.15, wall_thickness=6, infill_density=50, infill_pattern=<InfillPattern.GRID: 'grid'>, nozzle_temperature=230, bed_temperature=70, print_speed=60, material=<Material.ABS: 'abs'>, fan_speed=50, roughness=225, tensile_strength=18, elongation=1.4)\n",
      "ThreeDPrinterData(layer_height=0.15, wall_thickness=1, infill_density=50, infill_pattern=<InfillPattern.HONEYCOMB: 'honeycomb'>, nozzle_temperature=240, bed_temperature=75, print_speed=60, material=<Material.ABS: 'abs'>, fan_speed=75, roughness=289, tensile_strength=9, elongation=0.6)\n",
      "ThreeDPrinterData(layer_height=0.15, wall_thickness=7, infill_density=80, infill_pattern=<InfillPattern.GRID: 'grid'>, nozzle_temperature=250, bed_temperature=80, print_speed=60, material=<Material.ABS: 'abs'>, fan_speed=100, roughness=326, tensile_strength=13, elongation=0.7)\n",
      "ThreeDPrinterData(layer_height=0.15, wall_thickness=3, infill_density=80, infill_pattern=<InfillPattern.HONEYCOMB: 'honeycomb'>, nozzle_temperature=200, bed_temperature=60, print_speed=60, material=<Material.PLA: 'pla'>, fan_speed=0, roughness=192, tensile_strength=33, elongation=2.8)\n",
      "ThreeDPrinterData(layer_height=0.15, wall_thickness=4, infill_density=50, infill_pattern=<InfillPattern.GRID: 'grid'>, nozzle_temperature=205, bed_temperature=65, print_speed=60, material=<Material.PLA: 'pla'>, fan_speed=25, roughness=212, tensile_strength=24, elongation=1.8)\n",
      "ThreeDPrinterData(layer_height=0.15, wall_thickness=10, infill_density=30, infill_pattern=<InfillPattern.HONEYCOMB: 'honeycomb'>, nozzle_temperature=210, bed_temperature=70, print_speed=60, material=<Material.PLA: 'pla'>, fan_speed=50, roughness=168, tensile_strength=26, elongation=2.1)\n",
      "ThreeDPrinterData(layer_height=0.15, wall_thickness=6, infill_density=40, infill_pattern=<InfillPattern.GRID: 'grid'>, nozzle_temperature=215, bed_temperature=75, print_speed=60, material=<Material.PLA: 'pla'>, fan_speed=75, roughness=172, tensile_strength=22, elongation=2.3)\n",
      "ThreeDPrinterData(layer_height=0.15, wall_thickness=1, infill_density=10, infill_pattern=<InfillPattern.HONEYCOMB: 'honeycomb'>, nozzle_temperature=220, bed_temperature=80, print_speed=60, material=<Material.PLA: 'pla'>, fan_speed=100, roughness=163, tensile_strength=4, elongation=0.7)\n",
      "ThreeDPrinterData(layer_height=0.2, wall_thickness=4, infill_density=80, infill_pattern=<InfillPattern.GRID: 'grid'>, nozzle_temperature=220, bed_temperature=60, print_speed=40, material=<Material.ABS: 'abs'>, fan_speed=0, roughness=212, tensile_strength=35, elongation=3.3)\n",
      "ThreeDPrinterData(layer_height=0.2, wall_thickness=9, infill_density=90, infill_pattern=<InfillPattern.HONEYCOMB: 'honeycomb'>, nozzle_temperature=225, bed_temperature=65, print_speed=40, material=<Material.ABS: 'abs'>, fan_speed=25, roughness=276, tensile_strength=34, elongation=3.1)\n",
      "ThreeDPrinterData(layer_height=0.2, wall_thickness=7, infill_density=30, infill_pattern=<InfillPattern.GRID: 'grid'>, nozzle_temperature=230, bed_temperature=70, print_speed=40, material=<Material.ABS: 'abs'>, fan_speed=50, roughness=298, tensile_strength=28, elongation=2.2)\n",
      "ThreeDPrinterData(layer_height=0.2, wall_thickness=6, infill_density=90, infill_pattern=<InfillPattern.HONEYCOMB: 'honeycomb'>, nozzle_temperature=240, bed_temperature=75, print_speed=40, material=<Material.ABS: 'abs'>, fan_speed=75, roughness=360, tensile_strength=28, elongation=1.6)\n",
      "ThreeDPrinterData(layer_height=0.2, wall_thickness=3, infill_density=80, infill_pattern=<InfillPattern.GRID: 'grid'>, nozzle_temperature=250, bed_temperature=80, print_speed=40, material=<Material.ABS: 'abs'>, fan_speed=100, roughness=357, tensile_strength=21, elongation=1.1)\n",
      "ThreeDPrinterData(layer_height=0.2, wall_thickness=4, infill_density=20, infill_pattern=<InfillPattern.GRID: 'grid'>, nozzle_temperature=205, bed_temperature=65, print_speed=40, material=<Material.PLA: 'pla'>, fan_speed=25, roughness=265, tensile_strength=14, elongation=1.8)\n",
      "ThreeDPrinterData(layer_height=0.2, wall_thickness=5, infill_density=60, infill_pattern=<InfillPattern.HONEYCOMB: 'honeycomb'>, nozzle_temperature=210, bed_temperature=70, print_speed=40, material=<Material.PLA: 'pla'>, fan_speed=50, roughness=278, tensile_strength=30, elongation=3.2)\n",
      "ThreeDPrinterData(layer_height=0.2, wall_thickness=7, infill_density=40, infill_pattern=<InfillPattern.GRID: 'grid'>, nozzle_temperature=215, bed_temperature=75, print_speed=40, material=<Material.PLA: 'pla'>, fan_speed=75, roughness=244, tensile_strength=29, elongation=3.2)\n",
      "ThreeDPrinterData(layer_height=0.2, wall_thickness=3, infill_density=60, infill_pattern=<InfillPattern.HONEYCOMB: 'honeycomb'>, nozzle_temperature=220, bed_temperature=80, print_speed=40, material=<Material.PLA: 'pla'>, fan_speed=100, roughness=220, tensile_strength=27, elongation=3.1)\n"
     ]
    }
   ],
   "source": [
    "filename = '3dprinterdata_edited.csv'\n",
    "with open(filename) as users_csv:\n",
    "    reader = DataclassReader(users_csv, ThreeDPrinterData, vali)\n",
    "    for row in reader:\n",
    "        print(row)"
   ]
  },
  {
   "cell_type": "code",
   "execution_count": null,
   "id": "d27556d4-972e-41bf-9172-826b8df47498",
   "metadata": {},
   "outputs": [],
   "source": []
  }
 ],
 "metadata": {
  "kernelspec": {
   "display_name": "polymerize_env",
   "language": "python",
   "name": "polymerize_env"
  },
  "language_info": {
   "codemirror_mode": {
    "name": "ipython",
    "version": 3
   },
   "file_extension": ".py",
   "mimetype": "text/x-python",
   "name": "python",
   "nbconvert_exporter": "python",
   "pygments_lexer": "ipython3",
   "version": "3.7.9"
  }
 },
 "nbformat": 4,
 "nbformat_minor": 5
}
